{
 "cells": [
  {
   "cell_type": "code",
   "execution_count": null,
   "metadata": {},
   "outputs": [],
   "source": []
  },
  {
   "cell_type": "markdown",
   "metadata": {},
   "source": [
    "if - else loops"
   ]
  },
  {
   "cell_type": "markdown",
   "metadata": {},
   "source": [
    "If - else \n",
    "Scenario 1. Simple If -else loop  \n",
    "Scenario 2. If -elif looops \n",
    "Scenario 3. if -elif- else loops"
   ]
  },
  {
   "cell_type": "markdown",
   "metadata": {},
   "source": [
    "Scenario  - 1 Scenario 1. Simple If -else loop  \n",
    "Condition : there are 2 condition \n",
    "logic is checked for 1 condtion in the IF block \n",
    "else : takes care of second condtion.\n",
    "\n",
    "PS : Find if the given number is even or odd \n",
    "logic\n",
    "if 2  even , if 4 even 5 odd \n",
    "even num/2 = remainder 0 \n",
    "oddnum/2 = remainder 1 "
   ]
  },
  {
   "cell_type": "code",
   "execution_count": null,
   "metadata": {},
   "outputs": [],
   "source": []
  },
  {
   "cell_type": "markdown",
   "metadata": {},
   "source": [
    "if given num /2 rem == 0 then it is even \n",
    "if given num /2 rem == 1 then it odd . "
   ]
  },
  {
   "cell_type": "code",
   "execution_count": null,
   "metadata": {},
   "outputs": [],
   "source": [
    "userInput = int( \"Enter the Number Greater than Zero\")\n",
    "if userInput % 2 ==0 : \n",
    "    print(userInput , \"is even\" )\n",
    "else: \n",
    "    print(userInput, \"is odd\")\n"
   ]
  },
  {
   "cell_type": "markdown",
   "metadata": {},
   "source": [
    "Scenario 2. If -elif looops \n",
    "there are multiple conditions and only one of the condition is fulfilled. "
   ]
  },
  {
   "cell_type": "markdown",
   "metadata": {},
   "source": [
    "Problem Statement \n",
    "Students of BeGood school have recieved thier results the student wants to know his grade in the exam . \n",
    "The grading system of the school is as follows. \n",
    "Note the school awards minimum of 35 marks for each student.\n",
    "\n",
    "A Grade = above 90 Marks \n",
    "B Grade = above 80 to 90 Marks \n",
    "C grade = above 70 to 80 Marks \n",
    "D grade = above 60 to 70 Marks \n",
    "E grade = above 50 to 60 Marks \n",
    "PASS grade = above 35 marks"
   ]
  },
  {
   "cell_type": "code",
   "execution_count": null,
   "metadata": {},
   "outputs": [
    {
     "name": "stdout",
     "output_type": "stream",
     "text": [
      "Congratulations Om U have secured grade A\n"
     ]
    }
   ],
   "source": [
    "studentName = input(\"Please Enter your Name\")\n",
    "marksScored =int(input(\"Please Enter your Marks out of 100 \"))\n",
    "\n",
    "if marksScored > 90:\n",
    "    grade = \"A\"\n",
    "elif marksScored >80 and marksScored< 91:\n",
    "    grade = \"B\"\n",
    "elif marksScored > 70 and marksScored < 81:\n",
    "    grade = \"C\"\n",
    "elif marksScored > 60 and marksScored < 71:\n",
    "    grade = \"D\"\n",
    "elif marksScored > 50 and marksScored < 61:\n",
    "    grade = \"E\"\n",
    "elif marksScored > 35 and marksScored < 51:\n",
    "    grade = \"JUST PASS\"\n",
    "print(\"Congratulations \" + studentName + \" U have secured grade \" + grade)"
   ]
  },
  {
   "cell_type": "markdown",
   "metadata": {},
   "source": [
    "Scenario 3: If - elif - else loops\n",
    "Problem Statement \n",
    "Students of BeGood school have recieved thier results the student wants to know his grade in the exam . \n",
    "The grading system of the school is as follows. \n",
    "Note the school awards minimum of 35 marks for each student.\n",
    "\n",
    "A Grade = above 90 Marks \n",
    "B Grade = above 80 to 90 Marks \n",
    "C grade = above 70 to 80 Marks \n",
    "D grade = above 60 to 70 Marks \n",
    "E grade = above 50 to 60 Marks \n",
    "PASS grade = above 35 marks\n",
    "FAIL grade = 35 and less than 35 "
   ]
  },
  {
   "cell_type": "code",
   "execution_count": null,
   "metadata": {},
   "outputs": [],
   "source": [
    "studentName = input(\"Please Enter your Name\")\n",
    "marksScored =int(input(\"Please Enter your Marks out of 100 \"))\n",
    "\n",
    "if marksScored > 90:\n",
    "    grade = \"A\"\n",
    "elif marksScored >80 and marksScored< 91:\n",
    "    grade = \"B\"\n",
    "elif marksScored > 70 and marksScored < 81:\n",
    "    grade = \"C\"\n",
    "elif marksScored > 60 and marksScored < 71:\n",
    "    grade = \"D\"\n",
    "elif marksScored > 50 and marksScored < 61:\n",
    "    grade = \"E\"\n",
    "elif marksScored > 35 and marksScored < 51:\n",
    "    grade = \"JUST PASS\"\n",
    "else:\n",
    "    grade = \"FAIL\"\n",
    "\n",
    "if grade == \"FAIL\":\n",
    "    print(studentName + \" You have got grade\" , grade )\n",
    "else:\n",
    "    print(\"Congratulations \" + studentName + \" U have secured grade \" + grade)"
   ]
  }
 ],
 "metadata": {
  "kernelspec": {
   "display_name": "Python 3",
   "language": "python",
   "name": "python3"
  },
  "language_info": {
   "codemirror_mode": {
    "name": "ipython",
    "version": 3
   },
   "file_extension": ".py",
   "mimetype": "text/x-python",
   "name": "python",
   "nbconvert_exporter": "python",
   "pygments_lexer": "ipython3",
   "version": "3.9.6"
  }
 },
 "nbformat": 4,
 "nbformat_minor": 2
}
